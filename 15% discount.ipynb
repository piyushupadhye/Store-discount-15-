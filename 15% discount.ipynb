{
 "cells": [
  {
   "cell_type": "code",
   "execution_count": 6,
   "id": "a8d209a1",
   "metadata": {},
   "outputs": [
    {
     "name": "stdout",
     "output_type": "stream",
     "text": [
      "Enter Product Price:$10000\n",
      "Amount Payable is: $ 8500.0\n"
     ]
    }
   ],
   "source": [
    "A=input('Enter Product Price:')               #Please enter $ before Amount.\n",
    "str1=A\n",
    "P=str1.split('$')\n",
    "Q=(int(P[1])*0.15)\n",
    "print('Amount Payable is: $',int(P[1])-Q)     #After applying 15% Discount."
   ]
  }
 ],
 "metadata": {
  "kernelspec": {
   "display_name": "Python 3 (ipykernel)",
   "language": "python",
   "name": "python3"
  },
  "language_info": {
   "codemirror_mode": {
    "name": "ipython",
    "version": 3
   },
   "file_extension": ".py",
   "mimetype": "text/x-python",
   "name": "python",
   "nbconvert_exporter": "python",
   "pygments_lexer": "ipython3",
   "version": "3.9.7"
  }
 },
 "nbformat": 4,
 "nbformat_minor": 5
}
